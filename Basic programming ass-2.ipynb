{
 "cells": [
  {
   "cell_type": "markdown",
   "metadata": {},
   "source": [
    "1.Write a Python program to convert kilometers to miles?"
   ]
  },
  {
   "cell_type": "code",
   "execution_count": 3,
   "metadata": {},
   "outputs": [
    {
     "name": "stdout",
     "output_type": "stream",
     "text": [
      "Enter your kilomerter value =20\n",
      "converted miles of given kilometer value is = 12.4 miles\n"
     ]
    }
   ],
   "source": [
    "kilo = float(input(\"Enter your kilomerter value =\"))\n",
    "miles = kilo * 0.62\n",
    "print(\"converted miles of given kilometer value is =\",miles,\"miles\")"
   ]
  },
  {
   "cell_type": "markdown",
   "metadata": {},
   "source": [
    "2.Write a Python program to convert Celsius to Fahrenheit?"
   ]
  },
  {
   "cell_type": "code",
   "execution_count": 4,
   "metadata": {},
   "outputs": [
    {
     "name": "stdout",
     "output_type": "stream",
     "text": [
      "Enter the temperature in Celsius 50\n",
      "Converted Fahrenheit of given Celsius is   122.0 F\n"
     ]
    }
   ],
   "source": [
    "Celsius = float(input(\"Enter the temperature in Celsius \"))\n",
    "Fahrenheit = (Celsius * 1.8) + 32\n",
    "print(\"Converted Fahrenheit of given Celsius is  \", Fahrenheit,\"F\")"
   ]
  },
  {
   "cell_type": "markdown",
   "metadata": {},
   "source": [
    "3.Write a Python program to display calendar?"
   ]
  },
  {
   "cell_type": "code",
   "execution_count": 10,
   "metadata": {},
   "outputs": [
    {
     "name": "stdout",
     "output_type": "stream",
     "text": [
      "Enter your Month10\n",
      "Enter your Year2020\n",
      "    October 2020\n",
      "Mo Tu We Th Fr Sa Su\n",
      "          1  2  3  4\n",
      " 5  6  7  8  9 10 11\n",
      "12 13 14 15 16 17 18\n",
      "19 20 21 22 23 24 25\n",
      "26 27 28 29 30 31\n",
      "\n"
     ]
    }
   ],
   "source": [
    "import calendar\n",
    "try:\n",
    "    mm = int(input(\"Enter your Month\"))\n",
    "    yy = int(input(\"Enter your Year\"))\n",
    "    print(calendar.month(yy,mm))\n",
    "except Exception as e:\n",
    "    print(\"Enter valid input\",e)"
   ]
  },
  {
   "cell_type": "markdown",
   "metadata": {},
   "source": [
    "4.Write a Python program to solve quadratic equation?"
   ]
  },
  {
   "cell_type": "code",
   "execution_count": 13,
   "metadata": {},
   "outputs": [
    {
     "name": "stdout",
     "output_type": "stream",
     "text": [
      "General Quadratic equation is a*x**2+b*x+c=0 \n",
      "Enter choice value : 5\n",
      "Enter choice value : 10\n",
      "Enter choice value : 15\n",
      "Result for the equation, 5.0x**2+10.0*x+15.0=0, are:-\n",
      "Type of Root: Two complex Root\n"
     ]
    }
   ],
   "source": [
    "import cmath\n",
    "\n",
    "print(\"General Quadratic equation is a*x**2+b*x+c=0 \")\n",
    "\n",
    "a = float(input(\"Enter choice value : \"))\n",
    "b = float(input(\"Enter choice value : \"))\n",
    "c = float(input(\"Enter choice value : \"))\n",
    "\n",
    "dis = (b**2)-(4*a*c)\n",
    "\n",
    "sol1 = (-b+cmath.sqrt(dis))/2*a\n",
    "sol2 = (-b-cmath.sqrt(dis))/2*a\n",
    "\n",
    "print(f\"Result for the equation, {a}x**2+{b}*x+{c}=0, are:-\")\n",
    "\n",
    "if dis>0:\n",
    "    print(\"Type of root:Two distinct Real Roots \")\n",
    "elif dis == 0:\n",
    "    print(\"Type of Root :Two Equal Root\")\n",
    "else:\n",
    "    print(\"Type of Root: Two complex Root\")\n",
    "    "
   ]
  },
  {
   "cell_type": "markdown",
   "metadata": {},
   "source": [
    "5.Write a Python program to swap two variables without temp variable?"
   ]
  },
  {
   "cell_type": "code",
   "execution_count": 9,
   "metadata": {},
   "outputs": [],
   "source": [
    "a=10\n",
    "b=15\n",
    "a,b=b,a"
   ]
  },
  {
   "cell_type": "code",
   "execution_count": 10,
   "metadata": {},
   "outputs": [
    {
     "data": {
      "text/plain": [
       "10"
      ]
     },
     "execution_count": 10,
     "metadata": {},
     "output_type": "execute_result"
    }
   ],
   "source": [
    "b"
   ]
  },
  {
   "cell_type": "code",
   "execution_count": 11,
   "metadata": {},
   "outputs": [
    {
     "data": {
      "text/plain": [
       "15"
      ]
     },
     "execution_count": 11,
     "metadata": {},
     "output_type": "execute_result"
    }
   ],
   "source": [
    "a"
   ]
  }
 ],
 "metadata": {
  "kernelspec": {
   "display_name": "Python 3",
   "language": "python",
   "name": "python3"
  },
  "language_info": {
   "codemirror_mode": {
    "name": "ipython",
    "version": 3
   },
   "file_extension": ".py",
   "mimetype": "text/x-python",
   "name": "python",
   "nbconvert_exporter": "python",
   "pygments_lexer": "ipython3",
   "version": "3.8.5"
  },
  "toc": {
   "base_numbering": 1,
   "nav_menu": {},
   "number_sections": true,
   "sideBar": true,
   "skip_h1_title": false,
   "title_cell": "Table of Contents",
   "title_sidebar": "Contents",
   "toc_cell": false,
   "toc_position": {},
   "toc_section_display": true,
   "toc_window_display": false
  }
 },
 "nbformat": 4,
 "nbformat_minor": 4
}
