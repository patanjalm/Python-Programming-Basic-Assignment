{
 "cells": [
  {
   "cell_type": "markdown",
   "metadata": {},
   "source": [
    "1.Write a Python Program to Find LCM?"
   ]
  },
  {
   "cell_type": "code",
   "execution_count": 6,
   "metadata": {},
   "outputs": [
    {
     "name": "stdout",
     "output_type": "stream",
     "text": [
      "enter first number10\n",
      "enter second number52\n",
      "L.C.M is 260\n"
     ]
    }
   ],
   "source": [
    "num1 = int(input(\"enter first number\"))\n",
    "num2 = int(input(\"enter second number\"))\n",
    "if num1 > num2:\n",
    "    grt = num1\n",
    "else:\n",
    "    grt = num2\n",
    "while (True):\n",
    "    if ((grt % num1 == 0) and (grt % num2 == 0)):\n",
    "        print(\"L.C.M is\",grt)\n",
    "        break\n",
    "    grt+= 1    \n",
    "    "
   ]
  },
  {
   "cell_type": "markdown",
   "metadata": {},
   "source": [
    "2.Write a Python Program to Find HCF"
   ]
  },
  {
   "cell_type": "code",
   "execution_count": 11,
   "metadata": {},
   "outputs": [
    {
     "name": "stdout",
     "output_type": "stream",
     "text": [
      "enter first number4\n",
      "enter second number24\n",
      "The H.C.F of no.  4\n"
     ]
    }
   ],
   "source": [
    "num1 = int(input(\"enter first number\"))\n",
    "num2 = int(input(\"enter second number\"))\n",
    "if num1 > num2:\n",
    "    min = num2\n",
    "else:\n",
    "    min = num1\n",
    "    \n",
    "for i in range(1,min+1):\n",
    "    if num1 % i ==0 and num2 % i ==0:\n",
    "        hcf = i\n",
    "        \n",
    "print(\"The H.C.F of no. \",hcf)"
   ]
  },
  {
   "cell_type": "markdown",
   "metadata": {},
   "source": [
    "3.Write a Python Program to Convert Decimal to Binary, Octal and Hexadecimal?"
   ]
  },
  {
   "cell_type": "code",
   "execution_count": 17,
   "metadata": {},
   "outputs": [
    {
     "name": "stdout",
     "output_type": "stream",
     "text": [
      "enter your choice344\n",
      "0b101011000\n",
      "0o530\n",
      "0x158\n"
     ]
    }
   ],
   "source": [
    "num =int(input(\"enter your choice\"))\n",
    "print(bin(num))\n",
    "print(oct(num))\n",
    "print(hex(num))"
   ]
  },
  {
   "cell_type": "markdown",
   "metadata": {},
   "source": [
    "4.Write a Python Program To Find ASCII value of a character?"
   ]
  },
  {
   "cell_type": "code",
   "execution_count": 25,
   "metadata": {},
   "outputs": [
    {
     "name": "stdout",
     "output_type": "stream",
     "text": [
      "enter a charecter55\n",
      "enter single charecter\n"
     ]
    }
   ],
   "source": [
    "letter = str(input(\"enter a charecter\"))\n",
    "if len(letter)>1:\n",
    "    print(\"enter single charecter\")\n",
    "else:\n",
    "    print(\"The ASCII value of a character is \",ord(letter))"
   ]
  },
  {
   "cell_type": "markdown",
   "metadata": {},
   "source": [
    "5.Write a Python Program to Make a Simple Calculator with 4 basic mathematical operations?"
   ]
  },
  {
   "cell_type": "code",
   "execution_count": 34,
   "metadata": {},
   "outputs": [
    {
     "name": "stdout",
     "output_type": "stream",
     "text": [
      "enter your choice 20\n",
      "enter your choice 25\n",
      " addition is  45 \n",
      " substraction is  -5 \n",
      " multiplication is  500 \n",
      " division is  0.8 \n",
      "\n"
     ]
    }
   ],
   "source": [
    "a = int(input(\"enter your choice \"))\n",
    "b = int(input(\"enter your choice \"))\n",
    "print(\" addition is \",a+b,\"\\n\",\"substraction is \",a-b,\"\\n\",\"multiplication is \",a*b,\"\\n\",\"division is \",a/b,\"\\n\")"
   ]
  },
  {
   "cell_type": "code",
   "execution_count": null,
   "metadata": {},
   "outputs": [],
   "source": []
  }
 ],
 "metadata": {
  "kernelspec": {
   "display_name": "Python 3",
   "language": "python",
   "name": "python3"
  },
  "language_info": {
   "codemirror_mode": {
    "name": "ipython",
    "version": 3
   },
   "file_extension": ".py",
   "mimetype": "text/x-python",
   "name": "python",
   "nbconvert_exporter": "python",
   "pygments_lexer": "ipython3",
   "version": "3.8.5"
  },
  "toc": {
   "base_numbering": 1,
   "nav_menu": {},
   "number_sections": true,
   "sideBar": true,
   "skip_h1_title": false,
   "title_cell": "Table of Contents",
   "title_sidebar": "Contents",
   "toc_cell": false,
   "toc_position": {},
   "toc_section_display": true,
   "toc_window_display": false
  }
 },
 "nbformat": 4,
 "nbformat_minor": 4
}
