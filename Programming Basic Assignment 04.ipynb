{
 "cells": [
  {
   "cell_type": "markdown",
   "metadata": {},
   "source": [
    "1.Write a Python Program to Find the Factorial of a Number?"
   ]
  },
  {
   "cell_type": "code",
   "execution_count": 3,
   "metadata": {},
   "outputs": [
    {
     "name": "stdout",
     "output_type": "stream",
     "text": [
      "enter your choice3\n",
      "factorial of 3 is 6\n"
     ]
    }
   ],
   "source": [
    "num = int(input(\"enter your choice\")) # give you choice entry\n",
    "factorial = 1\n",
    "# if Provided number is less than zero\n",
    "if num < 0:\n",
    "    print(\"factorial does not exist for negative \") \n",
    "\n",
    "# if provided number is zero\n",
    "elif num == 0:\n",
    "    print(\"factorial of 0 is 1 \")\n",
    "\n",
    "# if provided number is greater than zero    \n",
    "else:\n",
    "    \n",
    "    for i in range(1,num+1):\n",
    "        factorial = factorial * i\n",
    "    print(\"factorial of\", num ,\"is\" ,factorial)"
   ]
  },
  {
   "cell_type": "markdown",
   "metadata": {},
   "source": [
    "2.Write a Python Program to Display the multiplication Table?"
   ]
  },
  {
   "cell_type": "code",
   "execution_count": 36,
   "metadata": {},
   "outputs": [
    {
     "name": "stdout",
     "output_type": "stream",
     "text": [
      "enter your choice5\n",
      "5 * 1 = 5\n",
      "5 * 2 = 10\n",
      "5 * 3 = 15\n",
      "5 * 4 = 20\n",
      "5 * 5 = 25\n",
      "5 * 6 = 30\n",
      "5 * 7 = 35\n",
      "5 * 8 = 40\n",
      "5 * 9 = 45\n",
      "5 * 10 = 50\n"
     ]
    }
   ],
   "source": [
    "num = int(input(\"enter your choice\"))# give you choice entry\n",
    "\n",
    "\n",
    "# Provided range for the table \n",
    "for i in range (1,11):\n",
    "    \n",
    "    print(\"%d * %d = %d\"%(num,i,num*i))\n",
    "    \n",
    "    \n",
    "    "
   ]
  },
  {
   "cell_type": "markdown",
   "metadata": {},
   "source": [
    "3.Write a Python Program to Print the Fibonacci sequence?"
   ]
  },
  {
   "cell_type": "code",
   "execution_count": 50,
   "metadata": {},
   "outputs": [
    {
     "name": "stdout",
     "output_type": "stream",
     "text": [
      "enter your choice5\n",
      "0\n",
      "1\n",
      "1\n",
      "2\n",
      "3\n"
     ]
    }
   ],
   "source": [
    "num = int(input(\"enter your choice\"))# give you choice entry\n",
    "n1, n2 = 0,1\n",
    "count = 0\n",
    "\n",
    "# if Provided number is less than zero\n",
    "\n",
    "if num <= 0 :\n",
    "    print(\"please enter the number greater then or equal to 1\")\n",
    "\n",
    "# if Provided number is equal to zero\n",
    "\n",
    "elif num == 1:\n",
    "    print(\"febonacci number of 1 is 0 \")\n",
    "    \n",
    "# if Provided number is more than 1 it enter into the loop\n",
    "\n",
    "else:\n",
    "    while count < num:\n",
    "        print(n1)  # this is giving final print\n",
    "        \n",
    "        \n",
    "        \n",
    "        new = n1 + n2 # new variable created by the sum of n1 and n2\n",
    "        \n",
    "        # now changing the place hold values.\n",
    "        n1 =n2    \n",
    "        \n",
    "        n2 =new\n",
    "        \n",
    "        count = count +1\n",
    "\n",
    "        \n",
    "    \n",
    "    "
   ]
  },
  {
   "cell_type": "markdown",
   "metadata": {},
   "source": [
    "4.Write a Python Program to Check Armstrong Number?"
   ]
  },
  {
   "cell_type": "code",
   "execution_count": 18,
   "metadata": {},
   "outputs": [
    {
     "name": "stdout",
     "output_type": "stream",
     "text": [
      "enter your choice 407\n",
      "This number is the Armstrong Number\n"
     ]
    }
   ],
   "source": [
    "num = int(input(\"enter your choice \"))# give you choice entry\n",
    "\n",
    "length = len(str(num))\n",
    "\n",
    "sum = 0\n",
    "\n",
    "# assine new variable\n",
    "\n",
    "temp = num\n",
    "\n",
    "while temp >0:\n",
    "    \n",
    "    digit=temp%10# this give last digit of the value\n",
    "    \n",
    "    sum += digit ** length\n",
    "    \n",
    "    temp //=10# this give remaining digit after removal of the last\n",
    "    \n",
    "if sum ==num:\n",
    "    print(\"This number is the Armstrong Number\")\n",
    "    \n",
    "else:\n",
    "    print(\"this is not Armstong Number\")\n"
   ]
  },
  {
   "cell_type": "markdown",
   "metadata": {},
   "source": [
    "5.Write a Python Program to Find Armstrong Number in an Interval?"
   ]
  },
  {
   "cell_type": "code",
   "execution_count": 43,
   "metadata": {},
   "outputs": [
    {
     "name": "stdout",
     "output_type": "stream",
     "text": [
      "enter your choice100\n",
      "enter your choice100000\n",
      "153\n",
      "370\n",
      "371\n",
      "407\n",
      "1634\n",
      "8208\n",
      "9474\n",
      "54748\n",
      "92727\n",
      "93084\n"
     ]
    }
   ],
   "source": [
    "lower = int(input(\"enter your choice\"))# give you choice entry\n",
    "\n",
    "upper = int(input(\"enter your choice\"))# give you choice entry\n",
    "\n",
    "for num in range(lower,upper +1):\n",
    "    \n",
    "    length=len(str(num))\n",
    "    \n",
    "    sum = 0\n",
    "# assine new variable\n",
    "\n",
    "    temp = num\n",
    "   \n",
    "    while temp > 0:\n",
    "        \n",
    "        digit = temp % 10 # this give last digit of the value\n",
    "        \n",
    "        sum += digit ** length\n",
    "        \n",
    "        temp //= 10 # this give remaining digit after removal of the last\n",
    "        \n",
    "    if num == sum:\n",
    "        print(num)\n",
    "            \n",
    "        \n",
    "        \n",
    "        "
   ]
  },
  {
   "cell_type": "markdown",
   "metadata": {},
   "source": [
    "6.Write a Python Program to Find the Sum of Natural Numbers?"
   ]
  },
  {
   "cell_type": "code",
   "execution_count": 49,
   "metadata": {},
   "outputs": [
    {
     "name": "stdout",
     "output_type": "stream",
     "text": [
      "enter you choice 16\n",
      "the sum is  136\n"
     ]
    }
   ],
   "source": [
    "\n",
    "num = int(input(\"enter you choice \"))# give you choice entry\n",
    "\n",
    "# if Provided number is less than or equal to zero\n",
    "if num<=0:\n",
    "    print(\"enter positive number\")\n",
    "\n",
    "# if Provided number is more than 1 it enter into else than into while    \n",
    "else:\n",
    "    sum = 0\n",
    "    while num>0:\n",
    "        \n",
    "        sum += num\n",
    "        num -= 1\n",
    "    print(\"the sum is \",sum)    \n"
   ]
  }
 ],
 "metadata": {
  "kernelspec": {
   "display_name": "Python 3",
   "language": "python",
   "name": "python3"
  },
  "language_info": {
   "codemirror_mode": {
    "name": "ipython",
    "version": 3
   },
   "file_extension": ".py",
   "mimetype": "text/x-python",
   "name": "python",
   "nbconvert_exporter": "python",
   "pygments_lexer": "ipython3",
   "version": "3.8.5"
  },
  "toc": {
   "base_numbering": 1,
   "nav_menu": {},
   "number_sections": true,
   "sideBar": true,
   "skip_h1_title": false,
   "title_cell": "Table of Contents",
   "title_sidebar": "Contents",
   "toc_cell": false,
   "toc_position": {},
   "toc_section_display": true,
   "toc_window_display": false
  }
 },
 "nbformat": 4,
 "nbformat_minor": 4
}
